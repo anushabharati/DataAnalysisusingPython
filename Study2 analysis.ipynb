{
 "cells": [
  {
   "cell_type": "code",
   "execution_count": null,
   "id": "0d130a05",
   "metadata": {},
   "outputs": [],
   "source": [
    "#Importing required libraries\n",
    "\n",
    "import pandas as pd\n",
    "import seaborn as sns"
   ]
  },
  {
   "cell_type": "code",
   "execution_count": null,
   "id": "193f0638",
   "metadata": {},
   "outputs": [],
   "source": [
    "#Reading the dataframe from excel \n",
    "df = pd.read_csv(\"excel.csv\")\n",
    "headers = [\"time\",\"consent\",\"age\",\"info\",\"name\",\"motivation\",\"simplicity\",\"trigger\"]\n",
    "df.columns = headers"
   ]
  },
  {
   "cell_type": "code",
   "execution_count": null,
   "id": "a0f7e175",
   "metadata": {},
   "outputs": [],
   "source": [
    "df.drop(columns = [\"time\",\"consent\",\"age\",\"info\",\"name\"],axis=1, inplace= True)"
   ]
  },
  {
   "cell_type": "code",
   "execution_count": null,
   "id": "aae04c18",
   "metadata": {},
   "outputs": [],
   "source": [
    "df"
   ]
  },
  {
   "cell_type": "code",
   "execution_count": null,
   "id": "18026e39",
   "metadata": {},
   "outputs": [],
   "source": [
    "#Histograms \n",
    "sns.set(style=\"white\", color_codes=True)\n",
    "sns.histplot(data=df, x=\"motivation\", color= 'red',kde=True,bins=5, edgecolor=\"black\")\n",
    "plt.xlabel('motivation')\n",
    "plt.ylabel('participants')"
   ]
  },
  {
   "cell_type": "code",
   "execution_count": null,
   "id": "a0704ca5",
   "metadata": {},
   "outputs": [],
   "source": [
    "#Histograms \n",
    "sns.set(style=\"white\", color_codes=True)\n",
    "sns.histplot(data=df, x=\"trigger\", color= 'red',kde=True,bins=5, edgecolor=\"black\")\n",
    "plt.xlabel('trigger')\n",
    "plt.ylabel('participants')"
   ]
  },
  {
   "cell_type": "code",
   "execution_count": null,
   "id": "90f44841",
   "metadata": {},
   "outputs": [],
   "source": [
    "#Histograms \n",
    "sns.set(style=\"white\", color_codes=True)\n",
    "sns.histplot(data=df, x=\"simplicity\", color= 'red',kde=True,bins=5, edgecolor=\"black\")\n",
    "plt.xlabel('simplicity')\n",
    "plt.ylabel('participants')"
   ]
  }
 ],
 "metadata": {
  "kernelspec": {
   "display_name": "Python 3.8.8 64-bit ('base': conda)",
   "language": "python",
   "name": "python388jvsc74a57bd040d3a090f54c6569ab1632332b64b2c03c39dcf918b08424e98f38b5ae0af88f"
  },
  "language_info": {
   "codemirror_mode": {
    "name": "ipython",
    "version": 3
   },
   "file_extension": ".py",
   "mimetype": "text/x-python",
   "name": "python",
   "nbconvert_exporter": "python",
   "pygments_lexer": "ipython3",
   "version": "3.8.8"
  }
 },
 "nbformat": 4,
 "nbformat_minor": 5
}
